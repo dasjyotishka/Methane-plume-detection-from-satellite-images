{
  "nbformat": 4,
  "nbformat_minor": 0,
  "metadata": {
    "colab": {
      "provenance": [],
      "gpuType": "A100"
    },
    "kernelspec": {
      "name": "python3",
      "display_name": "Python 3"
    },
    "language_info": {
      "name": "python"
    },
    "accelerator": "GPU",
    "gpuClass": "standard"
  },
  "cells": [
    {
      "cell_type": "markdown",
      "source": [
        "#Imports"
      ],
      "metadata": {
        "id": "5xa6x1iVfAdY"
      }
    },
    {
      "cell_type": "code",
      "source": [
        "from google.colab import drive \n",
        "drive.mount('/content/drive',)"
      ],
      "metadata": {
        "id": "oQ9PDJWb4qNV",
        "colab": {
          "base_uri": "https://localhost:8080/"
        },
        "outputId": "52e4017d-06b2-4061-ee41-46ee0b73ec01"
      },
      "execution_count": 23,
      "outputs": [
        {
          "output_type": "stream",
          "name": "stdout",
          "text": [
            "Drive already mounted at /content/drive; to attempt to forcibly remount, call drive.mount(\"/content/drive\", force_remount=True).\n"
          ]
        }
      ]
    },
    {
      "cell_type": "code",
      "source": [
        "from PIL import Image\n",
        "import torch\n",
        "import torch.nn as nn\n",
        "import torch.optim as optim\n",
        "from torch.utils.data import DataLoader, Dataset\n",
        "import torchvision.transforms as transforms\n",
        "from sklearn.metrics import roc_auc_score, accuracy_score\n",
        "import numpy as np\n",
        "import matplotlib.pyplot as plt\n",
        "import os\n",
        "import shutil\n",
        "import matplotlib.pyplot as plt"
      ],
      "metadata": {
        "id": "65MzHqRp9fiM"
      },
      "execution_count": 78,
      "outputs": []
    },
    {
      "cell_type": "code",
      "execution_count": 25,
      "metadata": {
        "id": "qMpUhNtzxaO1"
      },
      "outputs": [],
      "source": [
        "# Define hyperparameters\n",
        "#batch_size = 64\n",
        "batch_size = 32\n",
        "learning_rate = 0.001\n",
        "num_epochs = 60\n",
        "device = torch.device(\"cuda\" if torch.cuda.is_available() else \"cpu\")\n",
        "\n",
        "# Define dataset class\n",
        "class PlumeDataset(Dataset):\n",
        "    def __init__(self, plume_dir, no_plume_dir, transform=None):\n",
        "        self.plume_images = [os.path.join(plume_dir, img) for img in os.listdir(plume_dir)]\n",
        "        self.no_plume_images = [os.path.join(no_plume_dir, img) for img in os.listdir(no_plume_dir)]\n",
        "        self.images = self.plume_images + self.no_plume_images\n",
        "        self.targets = [1] * len(self.plume_images) + [0] * len(self.no_plume_images)\n",
        "        self.transform = transform\n",
        "    \n",
        "    def __len__(self):\n",
        "        return len(self.images)\n",
        "    \n",
        "    def __getitem__(self, idx):\n",
        "        image = Image.open(self.images[idx]).convert('L')\n",
        "        target = self.targets[idx]\n",
        "        if self.transform:\n",
        "            image = self.transform(image)\n",
        "        return image, target\n",
        "\n",
        "# Define data transforms\n",
        "train_transforms = transforms.Compose([\n",
        "    transforms.RandomHorizontalFlip(),\n",
        "    transforms.RandomVerticalFlip(),\n",
        "    transforms.RandomRotation(degrees=15),\n",
        "    transforms.ToTensor(),\n",
        "    transforms.Normalize(mean=[0.5], std=[0.5])\n",
        "])\n",
        "\n",
        "test_transforms = transforms.Compose([\n",
        "    transforms.ToTensor(),\n",
        "    transforms.Normalize(mean=[0.5], std=[0.5])\n",
        "])\n",
        "\n",
        "\n"
      ]
    },
    {
      "cell_type": "markdown",
      "source": [
        "#Dataloaders"
      ],
      "metadata": {
        "id": "wmFlpOMtfEnh"
      }
    },
    {
      "cell_type": "markdown",
      "source": [
        "The original dataset contained 214 images containing a methane plume, and 214 images not containing a methane plume. Now, to train our model we created four additional folders. The plume_training folders contain 192 images containg a methane plume and the no_plume_training folder has 192 images not containing a methane plume. The plume_testing folders contain 22 images containg a methane plume and the no_plume_testing folder contains 22 images not containing a methane plume selected manually at random."
      ],
      "metadata": {
        "id": "r3TbxS-CfMrY"
      }
    },
    {
      "cell_type": "code",
      "source": [
        "# Create datasets and dataloaders\n",
        "train_dataset = PlumeDataset('/content/drive/MyDrive/QB/plume_training', '/content/drive/MyDrive/QB/no_plume_training', transform=train_transforms)\n",
        "test_dataset = PlumeDataset('/content/drive/MyDrive/QB/plume_testing', '/content/drive/MyDrive/QB/no_plume_testing', transform=test_transforms)\n",
        "\n",
        "train_loader = DataLoader(train_dataset, batch_size=batch_size, shuffle=True)\n",
        "test_loader = DataLoader(test_dataset, batch_size=batch_size, shuffle=False)\n",
        "\n",
        "# Define CNN model\n",
        "class PlumeCNN(nn.Module):\n",
        "    def __init__(self):\n",
        "        super(PlumeCNN, self).__init__()\n",
        "        self.conv1 = nn.Conv2d(1, 32, kernel_size=3, stride=1, padding=1)\n",
        "        self.bn1 = nn.BatchNorm2d(32)\n",
        "        self.pool = nn.MaxPool2d(kernel_size=2, stride=2)\n",
        "        self.conv2 = nn.Conv2d(32, 64, kernel_size=3, stride=1, padding=1)\n",
        "        self.bn2 = nn.BatchNorm2d(64)\n",
        "        self.fc1 = nn.Linear(64 * 16 * 16, 128)\n",
        "        self.dropout = nn.Dropout(p=0.5)\n",
        "        self.fc2 = nn.Linear(128, 1)\n",
        "        \n",
        "    def forward(self, x):\n",
        "        x = self.pool(self.bn1(nn.functional.relu(self.conv1(x))))\n",
        "        x = self.pool(self.bn2(nn.functional.relu(self.conv2(x))))\n",
        "        x = x.view(-1, 64 * 16 * 16)\n",
        "        x = self.dropout(nn.functional.relu(self.fc1(x)))\n",
        "        x = nn.functional.sigmoid(self.fc2(x))\n",
        "        return x\n",
        "\n",
        "\n"
      ],
      "metadata": {
        "id": "zi19jQ4qxiUc"
      },
      "execution_count": 26,
      "outputs": []
    },
    {
      "cell_type": "code",
      "source": [
        "# Initialize model and optimizer\n",
        "model = PlumeCNN().to(device)\n",
        "criterion = nn.BCELoss()\n",
        "optimizer = optim.Adam(model.parameters(), lr=learning_rate)"
      ],
      "metadata": {
        "id": "ww2fEbmDxv2w"
      },
      "execution_count": 27,
      "outputs": []
    },
    {
      "cell_type": "code",
      "source": [
        "def evaluate(model, loader):\n",
        "    model.eval()\n",
        "    targets = []\n",
        "    #Obtain a list of prediction scores. If the prediction score >= 0.5, it means the image contains a plume, else not\n",
        "    predictions = []\n",
        "    with torch.no_grad():\n",
        "        for images, labels in loader:\n",
        "            images = images.to(device)\n",
        "            labels = labels.to(device)\n",
        "            outputs = model(images).squeeze()\n",
        "            predictions += outputs.cpu().tolist()\n",
        "            targets += labels.cpu().tolist()\n",
        "    #accuracy = np.mean(np.array(predictions) > 0.5) * 100\n",
        "    accuracy = accuracy_score(targets, [round(p) for p in predictions])\n",
        "    auc_score = roc_auc_score(targets, predictions) * 100\n",
        "    return accuracy, auc_score\n"
      ],
      "metadata": {
        "id": "pISM2VybxzQs"
      },
      "execution_count": 28,
      "outputs": []
    },
    {
      "cell_type": "markdown",
      "source": [
        "#Training the model and get test accuracy and AUC score"
      ],
      "metadata": {
        "id": "lkkWbU7yfHSw"
      }
    },
    {
      "cell_type": "code",
      "source": [
        "import matplotlib.pyplot as plt\n",
        "\n",
        "# Lists to store the loss and AUC scores\n",
        "train_losses = []\n",
        "test_losses = []\n",
        "auc_scores = []\n",
        "test_acc = []\n",
        "\n",
        "# Train the model\n",
        "for epoch in range(num_epochs):\n",
        "    model.train()\n",
        "    train_loss = 0.0\n",
        "    test_loss = 0.0\n",
        "    for images, labels in train_loader:\n",
        "        images = images.to(device)\n",
        "        labels = labels.to(device)\n",
        "        optimizer.zero_grad()\n",
        "        outputs = model(images).squeeze()\n",
        "        loss = criterion(outputs, labels.float())\n",
        "        loss.backward()\n",
        "        optimizer.step()\n",
        "        train_loss += loss.item() * images.size(0)\n",
        "    train_loss /= len(train_dataset)\n",
        "    test_accuracy, test_auc_score = evaluate(model, test_loader)\n",
        "    \n",
        "    # Store the loss and AUC score for plotting\n",
        "    train_losses.append(train_loss)\n",
        "    test_losses.append(test_loss)\n",
        "    auc_scores.append(test_auc_score)\n",
        "    test_acc.append(test_accuracy)\n",
        "    \n",
        "    print(f\"Epoch {epoch+1}/{num_epochs}, Train Loss: {train_loss:.4f}, Test Accuracy: {test_accuracy:.2f}, Test AUC: {test_auc_score:.2f}%\")\n",
        "\n"
      ],
      "metadata": {
        "colab": {
          "base_uri": "https://localhost:8080/"
        },
        "id": "gQYnvpaex0Kr",
        "outputId": "97985705-162f-4c4f-e2c4-adb103a07dec"
      },
      "execution_count": 29,
      "outputs": [
        {
          "output_type": "stream",
          "name": "stdout",
          "text": [
            "Epoch 1/60, Train Loss: 1.5068, Test Accuracy: 0.61, Test AUC: 69.42%\n",
            "Epoch 2/60, Train Loss: 0.7322, Test Accuracy: 0.64, Test AUC: 69.21%\n",
            "Epoch 3/60, Train Loss: 0.6806, Test Accuracy: 0.61, Test AUC: 63.02%\n",
            "Epoch 4/60, Train Loss: 0.6135, Test Accuracy: 0.70, Test AUC: 70.87%\n",
            "Epoch 5/60, Train Loss: 0.5925, Test Accuracy: 0.64, Test AUC: 76.45%\n",
            "Epoch 6/60, Train Loss: 0.5767, Test Accuracy: 0.73, Test AUC: 76.03%\n",
            "Epoch 7/60, Train Loss: 0.5537, Test Accuracy: 0.70, Test AUC: 77.89%\n",
            "Epoch 8/60, Train Loss: 0.6048, Test Accuracy: 0.70, Test AUC: 76.24%\n",
            "Epoch 9/60, Train Loss: 0.5415, Test Accuracy: 0.64, Test AUC: 71.90%\n",
            "Epoch 10/60, Train Loss: 0.5664, Test Accuracy: 0.73, Test AUC: 77.07%\n",
            "Epoch 11/60, Train Loss: 0.5361, Test Accuracy: 0.66, Test AUC: 77.07%\n",
            "Epoch 12/60, Train Loss: 0.5581, Test Accuracy: 0.75, Test AUC: 84.30%\n",
            "Epoch 13/60, Train Loss: 0.5531, Test Accuracy: 0.68, Test AUC: 82.64%\n",
            "Epoch 14/60, Train Loss: 0.5157, Test Accuracy: 0.77, Test AUC: 81.82%\n",
            "Epoch 15/60, Train Loss: 0.4895, Test Accuracy: 0.80, Test AUC: 81.82%\n",
            "Epoch 16/60, Train Loss: 0.4594, Test Accuracy: 0.73, Test AUC: 81.82%\n",
            "Epoch 17/60, Train Loss: 0.5387, Test Accuracy: 0.75, Test AUC: 84.09%\n",
            "Epoch 18/60, Train Loss: 0.4798, Test Accuracy: 0.73, Test AUC: 83.47%\n",
            "Epoch 19/60, Train Loss: 0.4464, Test Accuracy: 0.77, Test AUC: 83.06%\n",
            "Epoch 20/60, Train Loss: 0.4842, Test Accuracy: 0.80, Test AUC: 86.16%\n",
            "Epoch 21/60, Train Loss: 0.4526, Test Accuracy: 0.73, Test AUC: 81.20%\n",
            "Epoch 22/60, Train Loss: 0.4451, Test Accuracy: 0.75, Test AUC: 81.40%\n",
            "Epoch 23/60, Train Loss: 0.4059, Test Accuracy: 0.80, Test AUC: 83.47%\n",
            "Epoch 24/60, Train Loss: 0.4919, Test Accuracy: 0.73, Test AUC: 84.09%\n",
            "Epoch 25/60, Train Loss: 0.4531, Test Accuracy: 0.80, Test AUC: 85.74%\n",
            "Epoch 26/60, Train Loss: 0.4026, Test Accuracy: 0.77, Test AUC: 87.19%\n",
            "Epoch 27/60, Train Loss: 0.4153, Test Accuracy: 0.73, Test AUC: 87.60%\n",
            "Epoch 28/60, Train Loss: 0.3756, Test Accuracy: 0.75, Test AUC: 85.33%\n",
            "Epoch 29/60, Train Loss: 0.3790, Test Accuracy: 0.70, Test AUC: 84.92%\n",
            "Epoch 30/60, Train Loss: 0.3820, Test Accuracy: 0.80, Test AUC: 86.36%\n",
            "Epoch 31/60, Train Loss: 0.4109, Test Accuracy: 0.80, Test AUC: 86.78%\n",
            "Epoch 32/60, Train Loss: 0.4010, Test Accuracy: 0.80, Test AUC: 87.81%\n",
            "Epoch 33/60, Train Loss: 0.3740, Test Accuracy: 0.73, Test AUC: 85.33%\n",
            "Epoch 34/60, Train Loss: 0.3851, Test Accuracy: 0.75, Test AUC: 84.30%\n",
            "Epoch 35/60, Train Loss: 0.3396, Test Accuracy: 0.75, Test AUC: 85.54%\n",
            "Epoch 36/60, Train Loss: 0.3366, Test Accuracy: 0.77, Test AUC: 85.33%\n",
            "Epoch 37/60, Train Loss: 0.3071, Test Accuracy: 0.75, Test AUC: 86.98%\n",
            "Epoch 38/60, Train Loss: 0.3069, Test Accuracy: 0.75, Test AUC: 84.92%\n",
            "Epoch 39/60, Train Loss: 0.3061, Test Accuracy: 0.73, Test AUC: 84.30%\n",
            "Epoch 40/60, Train Loss: 0.2908, Test Accuracy: 0.77, Test AUC: 83.47%\n",
            "Epoch 41/60, Train Loss: 0.3008, Test Accuracy: 0.80, Test AUC: 85.12%\n",
            "Epoch 42/60, Train Loss: 0.3107, Test Accuracy: 0.80, Test AUC: 82.44%\n",
            "Epoch 43/60, Train Loss: 0.2526, Test Accuracy: 0.77, Test AUC: 84.71%\n",
            "Epoch 44/60, Train Loss: 0.2845, Test Accuracy: 0.77, Test AUC: 85.33%\n",
            "Epoch 45/60, Train Loss: 0.3059, Test Accuracy: 0.75, Test AUC: 84.71%\n",
            "Epoch 46/60, Train Loss: 0.3674, Test Accuracy: 0.73, Test AUC: 83.68%\n",
            "Epoch 47/60, Train Loss: 0.3108, Test Accuracy: 0.77, Test AUC: 85.33%\n",
            "Epoch 48/60, Train Loss: 0.2498, Test Accuracy: 0.80, Test AUC: 87.81%\n",
            "Epoch 49/60, Train Loss: 0.3092, Test Accuracy: 0.80, Test AUC: 89.26%\n",
            "Epoch 50/60, Train Loss: 0.2608, Test Accuracy: 0.75, Test AUC: 88.64%\n",
            "Epoch 51/60, Train Loss: 0.2210, Test Accuracy: 0.77, Test AUC: 87.81%\n",
            "Epoch 52/60, Train Loss: 0.2856, Test Accuracy: 0.86, Test AUC: 88.84%\n",
            "Epoch 53/60, Train Loss: 0.2755, Test Accuracy: 0.82, Test AUC: 86.36%\n",
            "Epoch 54/60, Train Loss: 0.2787, Test Accuracy: 0.80, Test AUC: 88.22%\n",
            "Epoch 55/60, Train Loss: 0.2361, Test Accuracy: 0.82, Test AUC: 88.84%\n",
            "Epoch 56/60, Train Loss: 0.2605, Test Accuracy: 0.80, Test AUC: 89.88%\n",
            "Epoch 57/60, Train Loss: 0.2303, Test Accuracy: 0.75, Test AUC: 89.26%\n",
            "Epoch 58/60, Train Loss: 0.2329, Test Accuracy: 0.80, Test AUC: 88.02%\n",
            "Epoch 59/60, Train Loss: 0.2528, Test Accuracy: 0.82, Test AUC: 90.29%\n",
            "Epoch 60/60, Train Loss: 0.2284, Test Accuracy: 0.75, Test AUC: 87.40%\n"
          ]
        }
      ]
    },
    {
      "cell_type": "code",
      "source": [
        "# Plotting the training loss and test loss\n",
        "epochs = range(1, num_epochs+1)\n",
        "\n",
        "plt.figure(figsize=(12, 6))\n",
        "plt.plot(epochs, train_losses, label='Train Loss')\n",
        "plt.plot(epochs, test_acc, label='Test Accuracy')\n",
        "plt.xlabel('Epochs')\n",
        "plt.ylabel('Loss and Accuracy')\n",
        "plt.title('Evolution of Train Loss and Test Accuracy')\n",
        "plt.legend()\n",
        "plt.show()\n",
        "\n",
        "# Plotting the AUC score\n",
        "plt.figure(figsize=(12, 6))\n",
        "plt.plot(epochs, auc_scores, label='AUC Score')\n",
        "plt.xlabel('Epochs')\n",
        "plt.ylabel('AUC Score')\n",
        "plt.title('AUC Score')\n",
        "plt.legend()\n",
        "plt.show()"
      ],
      "metadata": {
        "colab": {
          "base_uri": "https://localhost:8080/",
          "height": 1000
        },
        "id": "TBxBKsaWcJEf",
        "outputId": "6cf4d393-9aa6-44d0-9b7c-1e1c6edd8431"
      },
      "execution_count": 30,
      "outputs": [
        {
          "output_type": "display_data",
          "data": {
            "text/plain": [
              "<Figure size 1200x600 with 1 Axes>"
            ],
            "image/png": "[encoded data removed]"
          },
          "metadata": {}
        },
        {
          "output_type": "display_data",
          "data": {
            "text/plain": [
              "<Figure size 1200x600 with 1 Axes>"
            ],
            "image/png": "[encoded data removed]"
          },
          "metadata": {}
        }
      ]
    },
    {
      "cell_type": "code",
      "source": [
        "best_model_path = \"/content/drive/MyDrive/QB/models/model_Epoch_50_AUC_90.pt\"\n",
        "torch.save(model.state_dict(), best_model_path)"
      ],
      "metadata": {
        "id": "kQXgK-eIil4M"
      },
      "execution_count": 31,
      "outputs": []
    },
    {
      "cell_type": "markdown",
      "source": [
        "#Upload a folder and getting classification score"
      ],
      "metadata": {
        "id": "4d2FBiqctpQ1"
      }
    },
    {
      "cell_type": "code",
      "source": [
        "# Define dataset class\n",
        "class ValidationDataset(Dataset):\n",
        "    def __init__(self, val_dir, transform=None):\n",
        "        #self.plume_images = [os.path.join(plume_dir, img) for img in os.listdir(plume_dir)]\n",
        "        self.val_dir = [os.path.join(val_dir, img) for img in os.listdir(val_dir)]\n",
        "        self.images = self.val_dir\n",
        "        #self.targets = [1] * len(self.plume_images) + [0] * len(self.no_plume_images)\n",
        "        self.transform = transform\n",
        "    \n",
        "    def __len__(self):\n",
        "        return len(self.images)\n",
        "    \n",
        "\n",
        "    def __getitem__(self, idx):\n",
        "        image = Image.open(self.images[idx]).convert('L')\n",
        "        #target = self.targets[idx]\n",
        "        if self.transform:\n",
        "            image = self.transform(image)\n",
        "        return image\n",
        "# Define data transforms\n",
        "\n",
        "\n",
        "test_transforms = transforms.Compose([\n",
        "    transforms.ToTensor(),\n",
        "    transforms.Normalize(mean=[0.5], std=[0.5])\n",
        "])\n",
        "\n",
        "\n",
        "\n",
        "\n"
      ],
      "metadata": {
        "id": "P_lRsMVTtsKw"
      },
      "execution_count": 67,
      "outputs": []
    },
    {
      "cell_type": "code",
      "source": [
        "val_dataset = ValidationDataset('/content/drive/MyDrive/QB/plume_testing',  transform=test_transforms)\n",
        "val_loader = DataLoader(val_dataset, batch_size=batch_size, shuffle=False)\n",
        "\n",
        "\n",
        "# Load the saved model\n",
        "model = PlumeCNN()\n",
        "model.load_state_dict(torch.load(\"/content/drive/MyDrive/QB/models/model_Epoch_50_AUC_90.pt\"))\n",
        "# Move the model to the same device as the input tensor\n",
        "model.to(device)\n",
        "model.eval()\n",
        "\n",
        "# Iterate over each image in the folder\n",
        "for images in val_loader:\n",
        "    images = images.to(device)\n",
        "\n",
        "    # If sigmoid_output >= 0.5, then positive, else negative\n",
        "    output = model(images).squeeze()\n",
        "    print(\"Output:\")\n",
        "    print(output)\n",
        "\n",
        "    #sigmoid_output = torch.sigmoid(output)\n",
        "    #print(\"Sigmoid output:\")\n",
        "    #print(sigmoid_output)\n",
        "\n",
        "    predictions = torch.round(output)\n",
        "    print(\"Predictions:\")\n",
        "    print(predictions)\n",
        "\n",
        "    # Print the predicted classification result for each image\n",
        "    for i in range(len(predictions)):\n",
        "        print(f'The image {i+1} is classified as {\"Positive\" if predictions[i]==1 else \"Negative\"}.')\n",
        "        print(f'Prediction score: {output[i].item():.4f}')\n",
        "        print()\n",
        "\n"
      ],
      "metadata": {
        "colab": {
          "base_uri": "https://localhost:8080/"
        },
        "id": "qYv1TJJz1kVb",
        "outputId": "4b3287b5-6c7d-4c04-912d-82f9a79cc351"
      },
      "execution_count": 85,
      "outputs": [
        {
          "output_type": "stream",
          "name": "stdout",
          "text": [
            "Output:\n",
            "tensor([0.9997, 0.9960, 0.8942, 0.9969, 0.0580, 1.0000, 0.0857, 0.9999, 1.0000,\n",
            "        0.9208, 0.0998, 0.9998, 0.9708, 0.9085, 0.9658, 0.3861, 0.9438, 0.9600,\n",
            "        1.0000, 0.3472, 0.4151, 0.9585], device='cuda:0',\n",
            "       grad_fn=<SqueezeBackward0>)\n",
            "Predictions:\n",
            "tensor([1., 1., 1., 1., 0., 1., 0., 1., 1., 1., 0., 1., 1., 1., 1., 0., 1., 1.,\n",
            "        1., 0., 0., 1.], device='cuda:0', grad_fn=<RoundBackward0>)\n",
            "The image 1 is classified as Positive.\n",
            "Prediction score: 0.9997\n",
            "\n",
            "The image 2 is classified as Positive.\n",
            "Prediction score: 0.9960\n",
            "\n",
            "The image 3 is classified as Positive.\n",
            "Prediction score: 0.8942\n",
            "\n",
            "The image 4 is classified as Positive.\n",
            "Prediction score: 0.9969\n",
            "\n",
            "The image 5 is classified as Negative.\n",
            "Prediction score: 0.0580\n",
            "\n",
            "The image 6 is classified as Positive.\n",
            "Prediction score: 1.0000\n",
            "\n",
            "The image 7 is classified as Negative.\n",
            "Prediction score: 0.0857\n",
            "\n",
            "The image 8 is classified as Positive.\n",
            "Prediction score: 0.9999\n",
            "\n",
            "The image 9 is classified as Positive.\n",
            "Prediction score: 1.0000\n",
            "\n",
            "The image 10 is classified as Positive.\n",
            "Prediction score: 0.9208\n",
            "\n",
            "The image 11 is classified as Negative.\n",
            "Prediction score: 0.0998\n",
            "\n",
            "The image 12 is classified as Positive.\n",
            "Prediction score: 0.9998\n",
            "\n",
            "The image 13 is classified as Positive.\n",
            "Prediction score: 0.9708\n",
            "\n",
            "The image 14 is classified as Positive.\n",
            "Prediction score: 0.9085\n",
            "\n",
            "The image 15 is classified as Positive.\n",
            "Prediction score: 0.9658\n",
            "\n",
            "The image 16 is classified as Negative.\n",
            "Prediction score: 0.3861\n",
            "\n",
            "The image 17 is classified as Positive.\n",
            "Prediction score: 0.9438\n",
            "\n",
            "The image 18 is classified as Positive.\n",
            "Prediction score: 0.9600\n",
            "\n",
            "The image 19 is classified as Positive.\n",
            "Prediction score: 1.0000\n",
            "\n",
            "The image 20 is classified as Negative.\n",
            "Prediction score: 0.3472\n",
            "\n",
            "The image 21 is classified as Negative.\n",
            "Prediction score: 0.4151\n",
            "\n",
            "The image 22 is classified as Positive.\n",
            "Prediction score: 0.9585\n",
            "\n"
          ]
        }
      ]
    },
    {
      "cell_type": "markdown",
      "source": [
        "#Upload one image and get the classification score"
      ],
      "metadata": {
        "id": "P5tNoiim5C9t"
      }
    },
    {
      "cell_type": "code",
      "source": [
        "image_path = '/content/20230126_methane_mixing_ratio_id_4456.tif'\n",
        "destination_empty_directory = \"/content/drive/MyDrive/QB/empty_directory\"\n",
        "\n",
        "# Create the destination directory if it doesn't exist\n",
        "os.makedirs(destination_empty_directory, exist_ok=True)\n",
        "\n",
        "# Copy the image to the destination directory\n",
        "shutil.copy2(image_path, destination_empty_directory)\n",
        "\n",
        "val_dataset = ValidationDataset(destination_empty_directory,  transform=test_transforms)\n",
        "val_loader = DataLoader(val_dataset, batch_size=batch_size, shuffle=False)"
      ],
      "metadata": {
        "id": "D2UdO-rM6Icz"
      },
      "execution_count": 92,
      "outputs": []
    },
    {
      "cell_type": "code",
      "source": [
        "# Load the saved model\n",
        "model = PlumeCNN()\n",
        "model.load_state_dict(torch.load(\"/content/drive/MyDrive/QB/models/model_Epoch_50_AUC_90.pt\"))\n",
        "# Move the model to the same device as the input tensor\n",
        "model.to(device)\n",
        "model.eval()\n",
        "\n",
        "# Iterate over each image in the folder\n",
        "for images in val_loader:\n",
        "    images = images.to(device)\n",
        "\n",
        "    # If sigmoid_output >= 0.5, then positive, else negative\n",
        "    output = model(images).squeeze()\n",
        "    print(\"Output:\")\n",
        "    print(output)\n",
        "\n",
        "    predictions = torch.round(output)\n",
        "    print(\"Predictions:\")\n",
        "    print(predictions.item())  # Convert to Python scalar\n",
        "\n",
        "    # Print the classification result for the image\n",
        "    print(f'The image is classified as {\"Positive\" if predictions.item()==1 else \"Negative\"}.')\n",
        "    print(f'Prediction score: {output.item():.4f}')\n",
        "    print()\n",
        "\n",
        "\n"
      ],
      "metadata": {
        "colab": {
          "base_uri": "https://localhost:8080/"
        },
        "id": "0zcvlkWA5Eqf",
        "outputId": "0f96e111-906f-4d61-f314-d0ecbc38826f"
      },
      "execution_count": 93,
      "outputs": [
        {
          "output_type": "stream",
          "name": "stdout",
          "text": [
            "Output:\n",
            "tensor(0.0006, device='cuda:0', grad_fn=<SqueezeBackward0>)\n",
            "Predictions:\n",
            "0.0\n",
            "The image is classified as Negative.\n",
            "Prediction score: 0.0006\n",
            "\n"
          ]
        }
      ]
    },
    {
      "cell_type": "code",
      "source": [
        "#Delete the image from the empty directory folder\n",
        "# Get the list of files in the folder\n",
        "files = os.listdir(destination_empty_directory)\n",
        "\n",
        "# Iterate over the files and delete each one\n",
        "for file in files:\n",
        "    file_path = os.path.join(destination_empty_directory, file)\n",
        "    if os.path.isfile(file_path):\n",
        "        os.remove(file_path)"
      ],
      "metadata": {
        "id": "t95kMnQ9-_uJ"
      },
      "execution_count": 94,
      "outputs": []
    },
    {
      "cell_type": "markdown",
      "source": [
        "#Developing a web app to display the results"
      ],
      "metadata": {
        "id": "tTHZlReBZDK2"
      }
    },
    {
      "cell_type": "code",
      "source": [
        "!pip install -q streamlit"
      ],
      "metadata": {
        "id": "X5TimOsgZH8o"
      },
      "execution_count": 36,
      "outputs": []
    },
    {
      "cell_type": "code",
      "source": [
        "from PIL import Image"
      ],
      "metadata": {
        "id": "Etz4vOJFZJvW"
      },
      "execution_count": 37,
      "outputs": []
    },
    {
      "cell_type": "code",
      "source": [
        "%%writefile app.py\n",
        "import streamlit as st\n",
        "from PIL import Image\n",
        "\n",
        "from PIL import Image\n",
        "import torch\n",
        "import torch.nn as nn\n",
        "import torch.optim as optim\n",
        "from torch.utils.data import DataLoader, Dataset\n",
        "import torchvision.transforms as transforms\n",
        "from sklearn.metrics import roc_auc_score, accuracy_score\n",
        "import numpy as np\n",
        "import matplotlib.pyplot as plt\n",
        "import os\n",
        "import matplotlib.pyplot as plt\n",
        "\n",
        "\n",
        "last_transforms = transforms.Compose([\n",
        "    transforms.Resize((64, 64)),\n",
        "    transforms.ToTensor()\n",
        "])\n",
        "\n",
        "batch_size = 32\n",
        "learning_rate = 0.001\n",
        "num_epochs = 50\n",
        "device = torch.device(\"cuda\" if torch.cuda.is_available() else \"cpu\")\n",
        "\n",
        "class PlumeCNN(nn.Module):\n",
        "    def __init__(self):\n",
        "        super(PlumeCNN, self).__init__()\n",
        "        self.conv1 = nn.Conv2d(1, 32, kernel_size=3, stride=1, padding=1)\n",
        "        self.bn1 = nn.BatchNorm2d(32)\n",
        "        self.pool = nn.MaxPool2d(kernel_size=2, stride=2)\n",
        "        self.conv2 = nn.Conv2d(32, 64, kernel_size=3, stride=1, padding=1)\n",
        "        self.bn2 = nn.BatchNorm2d(64)\n",
        "        self.fc1 = nn.Linear(64 * 16 * 16, 128)\n",
        "        self.dropout = nn.Dropout(p=0.5)\n",
        "        self.fc2 = nn.Linear(128, 1)\n",
        "        \n",
        "    def forward(self, x):\n",
        "        x = self.pool(self.bn1(nn.functional.relu(self.conv1(x))))\n",
        "        x = self.pool(self.bn2(nn.functional.relu(self.conv2(x))))\n",
        "        x = x.view(-1, 64 * 16 * 16)\n",
        "        x = self.dropout(nn.functional.relu(self.fc1(x)))\n",
        "        x = nn.functional.sigmoid(self.fc2(x))\n",
        "        return x\n",
        "model = PlumeCNN().to(device)\n",
        "model.load_state_dict(torch.load(\"/content/model_Epoch_50_AUC_90.pt\"))\n",
        "model.eval()\n",
        "st.title('Methane Classifier')\n",
        "\n",
        "# x = st.slider('Select a value')\n",
        "# st.write(x, 'squared is', x * x)\n",
        "#st.text(\"trial1\")\n",
        "\n",
        "def save_uploaded_file(uploaded_file):\n",
        "    try:\n",
        "        with open(os.path.join('uploaded',uploaded_file.name),'wb') as f:\n",
        "            f.write(uploaded_file.getbuffer())\n",
        "        return 1    \n",
        "    except:\n",
        "        return 0\n",
        "\n",
        "uploaded_file = st.file_uploader(\"Upload Image\")\n",
        "\n",
        "if uploaded_file is not None:\n",
        "    #if save_uploaded_file(uploaded_file):\n",
        "        # display the file\n",
        "        display_image = Image.open(uploaded_file)\n",
        "        #display_image = display_image.resize((500,300))\n",
        "        #st.image(display_image)\n",
        "        #st.text(\"trial2\")\n",
        "        image_tensor = last_transforms(display_image).float()\n",
        "\n",
        "        image_tensor = transforms.Normalize(\n",
        "          mean=[0.5],\n",
        "          std=[0.5]\n",
        "        )(image_tensor)\n",
        "\n",
        "      # Add a batch dimension to the image tensor\n",
        "        image_tensor = image_tensor.unsqueeze(0)\n",
        "        #st.text(\"trial3\")\n",
        "      # Pass the image tensor through the model to get the classification result\n",
        "        with torch.no_grad():\n",
        "          #st.text(\"trial4\")\n",
        "      #If sigmoid_output>=0.5, then positive, else negative\n",
        "          output = model(image_tensor.to(device))\n",
        "          #st.text(\"abc\")\n",
        "          sigmoid_output = torch.sigmoid(output).item()\n",
        "          st.text(\"sigmoid_output: \"+ str(sigmoid_output))\n",
        "\n",
        "    #If prediction=1, then positive, else negative\n",
        "          prediction = torch.sigmoid(output).round().item()\n",
        "          st.text(\"prediction: \"+ str(prediction))\n",
        "\n",
        "# Print the predicted classification result\n",
        "          st.text(f'The image {\"has a methane plume\" if prediction==1 else \"does not have a methane plume\"}')\n",
        "          \n",
        "\n"
      ],
      "metadata": {
        "colab": {
          "base_uri": "https://localhost:8080/"
        },
        "id": "i9uSBEPdZLwB",
        "outputId": "97904123-00ae-488f-93cd-4641cf2cc647"
      },
      "execution_count": 38,
      "outputs": [
        {
          "output_type": "stream",
          "name": "stdout",
          "text": [
            "Writing app.py\n"
          ]
        }
      ]
    },
    {
      "cell_type": "code",
      "source": [
        "!npm install localtunnel"
      ],
      "metadata": {
        "colab": {
          "base_uri": "https://localhost:8080/"
        },
        "id": "BudNWf8iZPS-",
        "outputId": "4c79528a-cd01-429c-81cd-638421e1a63c"
      },
      "execution_count": 39,
      "outputs": [
        {
          "output_type": "stream",
          "name": "stdout",
          "text": [
            "\u001b[K\u001b[?25h\u001b[37;40mnpm\u001b[0m \u001b[0m\u001b[30;43mWARN\u001b[0m \u001b[0m\u001b[35msaveError\u001b[0m ENOENT: no such file or directory, open '/content/package.json'\n",
            "\u001b[K\u001b[?25h\u001b[37;40mnpm\u001b[0m \u001b[0m\u001b[34;40mnotice\u001b[0m\u001b[35m\u001b[0m created a lockfile as package-lock.json. You should commit this file.\n",
            "\u001b[0m\u001b[37;40mnpm\u001b[0m \u001b[0m\u001b[30;43mWARN\u001b[0m \u001b[0m\u001b[35menoent\u001b[0m ENOENT: no such file or directory, open '/content/package.json'\n",
            "\u001b[0m\u001b[37;40mnpm\u001b[0m \u001b[0m\u001b[30;43mWARN\u001b[0m\u001b[35m\u001b[0m content No description\n",
            "\u001b[0m\u001b[37;40mnpm\u001b[0m \u001b[0m\u001b[30;43mWARN\u001b[0m\u001b[35m\u001b[0m content No repository field.\n",
            "\u001b[0m\u001b[37;40mnpm\u001b[0m \u001b[0m\u001b[30;43mWARN\u001b[0m\u001b[35m\u001b[0m content No README data\n",
            "\u001b[0m\u001b[37;40mnpm\u001b[0m \u001b[0m\u001b[30;43mWARN\u001b[0m\u001b[35m\u001b[0m content No license field.\n",
            "\u001b[0m\n",
            "+ localtunnel@2.0.2\n",
            "added 22 packages from 22 contributors and audited 22 packages in 1.632s\n",
            "\n",
            "3 packages are looking for funding\n",
            "  run `npm fund` for details\n",
            "\n",
            "found \u001b[92m0\u001b[0m vulnerabilities\n",
            "\n"
          ]
        }
      ]
    },
    {
      "cell_type": "code",
      "source": [
        "!streamlit run /content/app.py &>/content/logs.txt &"
      ],
      "metadata": {
        "id": "h5hTiIYpZRRq"
      },
      "execution_count": 42,
      "outputs": []
    },
    {
      "cell_type": "code",
      "source": [
        "!npx localtunnel --port 8501"
      ],
      "metadata": {
        "colab": {
          "base_uri": "https://localhost:8080/"
        },
        "id": "o3wA-0FBZTUQ",
        "outputId": "51417f35-1d4a-4022-8ce6-25eace1a72db"
      },
      "execution_count": 43,
      "outputs": [
        {
          "output_type": "stream",
          "name": "stdout",
          "text": [
            "\u001b[K\u001b[?25hnpx: installed 22 in 2.058s\n",
            "your url is: https://hip-points-care.loca.lt\n",
            "^C\n"
          ]
        }
      ]
    }
  ]
}